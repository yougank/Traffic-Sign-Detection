{
 "cells": [
  {
   "cell_type": "code",
   "execution_count": 2,
   "metadata": {},
   "outputs": [],
   "source": [
    "#Store data and labels in the list \n",
    "data = []\n",
    "labels = []\n",
    "# We have 43 Classes\n",
    "classes = 43\n",
    "cur_path = os.getcwd()\n"
   ]
  },
  {
   "cell_type": "code",
   "execution_count": 3,
   "metadata": {},
   "outputs": [
    {
     "data": {
      "text/plain": [
       "'D:\\\\Traffic_Sign_Recognition'"
      ]
     },
     "execution_count": 3,
     "metadata": {},
     "output_type": "execute_result"
    }
   ],
   "source": [
    "cur_path"
   ]
  },
  {
   "cell_type": "code",
   "execution_count": 4,
   "metadata": {},
   "outputs": [],
   "source": [
    "#Preprocessing the data\n",
    "for i in range(classes):\n",
    "    path = os.path.join(cur_path,'train',str(i))\n",
    "    images = os.listdir(path)\n",
    "    for a in images:\n",
    "        try:\n",
    "            image = Image.open(path + '\\\\'+ a)\n",
    "            image = image.resize((30,30))\n",
    "            image = np.array(image)\n",
    "            data.append(image)\n",
    "            labels.append(i)\n",
    "        except Exception as e:\n",
    "            print(e)"
   ]
  },
  {
   "cell_type": "code",
   "execution_count": 5,
   "metadata": {},
   "outputs": [],
   "source": [
    "#Converting list into numpy array\n",
    "data = np.array(data)\n",
    "labels = np.array(labels)"
   ]
  },
  {
   "cell_type": "code",
   "execution_count": 8,
   "metadata": {},
   "outputs": [],
   "source": [
    "X_train, X_test, y_train, y_test = train_test_split(data, labels, test_size=0.2, random_state=0)"
   ]
  },
  {
   "cell_type": "code",
   "execution_count": 9,
   "metadata": {},
   "outputs": [
    {
     "name": "stdout",
     "output_type": "stream",
     "text": [
      "(31367, 30, 30, 3) (7842, 30, 30, 3) (31367,) (7842,)\n"
     ]
    }
   ],
   "source": [
    "print(X_train.shape, X_test.shape, y_train.shape, y_test.shape)"
   ]
  },
  {
   "cell_type": "code",
   "execution_count": 10,
   "metadata": {},
   "outputs": [],
   "source": [
    "#Convert labels to onehot encoding\n",
    "y_train = to_categorical(y_train, 43)\n",
    "y_test = to_categorical(y_test, 43)"
   ]
  },
  {
   "cell_type": "code",
   "execution_count": 11,
   "metadata": {},
   "outputs": [],
   "source": [
    "#Building the model\n",
    "model = Sequential()\n",
    "model.add(Conv2D(filters=32, kernel_size=(5,5), activation='relu', input_shape=X_train.shape[1:]))\n",
    "model.add(Conv2D(filters=32, kernel_size=(5,5), activation='relu'))\n",
    "model.add(MaxPool2D(pool_size=(2, 2)))\n",
    "model.add(Dropout(rate=0.25))\n",
    "model.add(Conv2D(filters=64, kernel_size=(3, 3), activation='relu'))\n",
    "model.add(Conv2D(filters=64, kernel_size=(3, 3), activation='relu'))\n",
    "model.add(MaxPool2D(pool_size=(2, 2)))\n",
    "model.add(Dropout(rate=0.25))\n",
    "model.add(Flatten())\n",
    "model.add(Dense(256, activation='relu'))\n",
    "model.add(Dropout(rate=0.5))\n",
    "# We have 43 classes that's why we have defined 43 in the dense\n",
    "model.add(Dense(43, activation='softmax'))"
   ]
  },
  {
   "cell_type": "code",
   "execution_count": 12,
   "metadata": {},
   "outputs": [],
   "source": [
    "#Compilation of the model\n",
    "model.compile(loss='categorical_crossentropy', optimizer='adam', metrics=['accuracy'])"
   ]
  },
  {
   "cell_type": "code",
   "execution_count": 13,
   "metadata": {
    "scrolled": true
   },
   "outputs": [
    {
     "name": "stdout",
     "output_type": "stream",
     "text": [
      "Epoch 1/20\n",
      "981/981 [==============================] - 65s 66ms/step - loss: 2.8924 - accuracy: 0.2562 - val_loss: 1.0401 - val_accuracy: 0.7316\n",
      "Epoch 2/20\n",
      "981/981 [==============================] - 69s 70ms/step - loss: 1.0059 - accuracy: 0.6967 - val_loss: 0.3989 - val_accuracy: 0.8967\n",
      "Epoch 3/20\n",
      "981/981 [==============================] - 62s 63ms/step - loss: 0.6127 - accuracy: 0.8154 - val_loss: 0.2982 - val_accuracy: 0.9260\n",
      "Epoch 4/20\n",
      "981/981 [==============================] - 62s 63ms/step - loss: 0.4569 - accuracy: 0.8607 - val_loss: 0.2449 - val_accuracy: 0.9345\n",
      "Epoch 5/20\n",
      "981/981 [==============================] - 61s 62ms/step - loss: 0.3760 - accuracy: 0.8901 - val_loss: 0.1296 - val_accuracy: 0.9642\n",
      "Epoch 6/20\n",
      "981/981 [==============================] - 59s 60ms/step - loss: 0.3138 - accuracy: 0.9107 - val_loss: 0.1350 - val_accuracy: 0.9573\n",
      "Epoch 7/20\n",
      "981/981 [==============================] - 58s 59ms/step - loss: 0.2982 - accuracy: 0.9166 - val_loss: 0.0815 - val_accuracy: 0.9769\n",
      "Epoch 8/20\n",
      "981/981 [==============================] - 60s 62ms/step - loss: 0.2575 - accuracy: 0.9285 - val_loss: 0.0890 - val_accuracy: 0.9774\n",
      "Epoch 9/20\n",
      "981/981 [==============================] - 64s 65ms/step - loss: 0.2622 - accuracy: 0.9257 - val_loss: 0.0818 - val_accuracy: 0.9777\n",
      "Epoch 10/20\n",
      "981/981 [==============================] - 65s 66ms/step - loss: 0.2654 - accuracy: 0.9267 - val_loss: 0.0874 - val_accuracy: 0.9737\n",
      "Epoch 11/20\n",
      "981/981 [==============================] - 59s 60ms/step - loss: 0.2437 - accuracy: 0.9348 - val_loss: 0.0847 - val_accuracy: 0.9781\n",
      "Epoch 12/20\n",
      "981/981 [==============================] - 62s 63ms/step - loss: 0.2258 - accuracy: 0.9375 - val_loss: 0.0787 - val_accuracy: 0.9802\n",
      "Epoch 13/20\n",
      "981/981 [==============================] - 61s 62ms/step - loss: 0.2310 - accuracy: 0.9419 - val_loss: 0.0978 - val_accuracy: 0.9714\n",
      "Epoch 14/20\n",
      "981/981 [==============================] - 62s 63ms/step - loss: 0.2533 - accuracy: 0.9336 - val_loss: 0.0781 - val_accuracy: 0.9795\n",
      "Epoch 15/20\n",
      "981/981 [==============================] - 58s 60ms/step - loss: 0.2467 - accuracy: 0.9369 - val_loss: 0.0615 - val_accuracy: 0.9853\n",
      "Epoch 16/20\n",
      "981/981 [==============================] - 59s 60ms/step - loss: 0.2382 - accuracy: 0.9386 - val_loss: 0.0823 - val_accuracy: 0.9750\n",
      "Epoch 17/20\n",
      "981/981 [==============================] - 59s 60ms/step - loss: 0.2528 - accuracy: 0.9365 - val_loss: 0.1417 - val_accuracy: 0.9631\n",
      "Epoch 18/20\n",
      "981/981 [==============================] - 61s 63ms/step - loss: 0.2292 - accuracy: 0.9430 - val_loss: 0.0829 - val_accuracy: 0.9787\n",
      "Epoch 19/20\n",
      "981/981 [==============================] - 59s 60ms/step - loss: 0.2313 - accuracy: 0.9440 - val_loss: 0.0687 - val_accuracy: 0.9829\n",
      "Epoch 20/20\n",
      "981/981 [==============================] - 58s 59ms/step - loss: 0.2195 - accuracy: 0.9452 - val_loss: 0.0815 - val_accuracy: 0.9778\n"
     ]
    }
   ],
   "source": [
    "epochs = 20\n",
    "history = model.fit(X_train, y_train, batch_size=32, epochs=epochs, validation_data=(X_test, y_test))"
   ]
  },
  {
   "cell_type": "code",
   "execution_count": 14,
   "metadata": {},
   "outputs": [
    {
     "data": {
      "image/png": "[encoded data removed]",
      "text/plain": [
       "<Figure size 432x288 with 1 Axes>"
      ]
     },
     "metadata": {
      "needs_background": "light"
     },
     "output_type": "display_data"
    }
   ],
   "source": [
    "# accuracy \n",
    "plt.figure(0)\n",
    "plt.plot(history.history['accuracy'], label='training accuracy')\n",
    "plt.plot(history.history['val_accuracy'], label='val accuracy')\n",
    "plt.title('Accuracy')\n",
    "plt.xlabel('epochs')\n",
    "plt.ylabel('accuracy')\n",
    "plt.legend()\n",
    "plt.show()"
   ]
  },
  {
   "cell_type": "code",
   "execution_count": 15,
   "metadata": {},
   "outputs": [
    {
     "data": {
      "image/png": "[encoded data removed]",
      "text/plain": [
       "<Figure size 432x288 with 1 Axes>"
      ]
     },
     "metadata": {
      "needs_background": "light"
     },
     "output_type": "display_data"
    }
   ],
   "source": [
    "# Loss\n",
    "plt.plot(history.history['loss'], label='training loss')\n",
    "plt.plot(history.history['val_loss'], label='val loss')\n",
    "plt.title('Loss')\n",
    "plt.xlabel('epochs')\n",
    "plt.ylabel('loss')\n",
    "plt.legend()\n",
    "plt.show()"
   ]
  },
  {
   "cell_type": "code",
   "execution_count": 16,
   "metadata": {},
   "outputs": [],
   "source": [
    "#Testing on Test data\n",
    "def testing(testcsv):\n",
    "    y_test = pd.read_csv(testcsv)\n",
    "    label = y_test[\"ClassId\"].values\n",
    "    imgs = y_test[\"Path\"].values\n",
    "    data=[]\n",
    "    for img in imgs:\n",
    "        image = Image.open(img)\n",
    "        image = image.resize((30,30))\n",
    "        data.append(np.array(image))\n",
    "    X_test=np.array(data)\n",
    "    return X_test,label"
   ]
  },
  {
   "cell_type": "code",
   "execution_count": 17,
   "metadata": {},
   "outputs": [],
   "source": [
    "X_test, label = testing('Test.csv')"
   ]
  },
  {
   "cell_type": "code",
   "execution_count": 63,
   "metadata": {},
   "outputs": [
    {
     "data": {
      "text/plain": [
       "array([[8.18848664e-24, 3.84339252e-15, 8.16221659e-19, ...,\n",
       "        1.83543358e-15, 6.51870042e-24, 1.30782839e-22],\n",
       "       [1.09997939e-06, 9.99989986e-01, 9.30543476e-10, ...,\n",
       "        5.74500351e-15, 9.83118192e-28, 6.56015113e-22],\n",
       "       [0.00000000e+00, 0.00000000e+00, 0.00000000e+00, ...,\n",
       "        0.00000000e+00, 0.00000000e+00, 0.00000000e+00],\n",
       "       ...,\n",
       "       [8.97819427e-06, 1.25127017e-01, 6.65519714e-01, ...,\n",
       "        1.15726993e-03, 2.65579368e-03, 1.69204504e-05],\n",
       "       [8.80875619e-16, 2.19903526e-08, 1.00827915e-08, ...,\n",
       "        1.48135160e-09, 4.77386999e-20, 3.66381578e-12],\n",
       "       [4.35090609e-27, 3.03786345e-19, 7.92945740e-20, ...,\n",
       "        4.65498378e-20, 2.63459550e-25, 2.29107457e-16]], dtype=float32)"
      ]
     },
     "execution_count": 63,
     "metadata": {},
     "output_type": "execute_result"
    }
   ],
   "source": [
    "Y_pred = model.predict(X_test)\n",
    "Y_pred\n"
   ]
  },
  {
   "cell_type": "code",
   "execution_count": 19,
   "metadata": {},
   "outputs": [],
   "source": [
    "model.save(\"./training/TSR.h5\")"
   ]
  },
  {
   "cell_type": "code",
   "execution_count": 20,
   "metadata": {},
   "outputs": [],
   "source": [
    "import os\n",
    "os.chdir(r'D:\\Traffic_Sign_Recognition')\n",
    "from keras.models import load_model\n",
    "model = load_model('./training/TSR.h5')"
   ]
  },
  {
   "cell_type": "code",
   "execution_count": 21,
   "metadata": {},
   "outputs": [],
   "source": [
    "# Classes of trafic signs\n",
    "classes = { 0:'Speed limit (20km/h)',\n",
    "            1:'Speed limit (30km/h)', \n",
    "            2:'Speed limit (50km/h)', \n",
    "            3:'Speed limit (60km/h)', \n",
    "            4:'Speed limit (70km/h)', \n",
    "            5:'Speed limit (80km/h)', \n",
    "            6:'End of speed limit (80km/h)', \n",
    "            7:'Speed limit (100km/h)', \n",
    "            8:'Speed limit (120km/h)', \n",
    "            9:'No passing', \n",
    "            10:'No passing veh over 3.5 tons', \n",
    "            11:'Right-of-way at intersection', \n",
    "            12:'Priority road', \n",
    "            13:'Yield', \n",
    "            14:'Stop', \n",
    "            15:'No vehicles', \n",
    "            16:'Veh > 3.5 tons prohibited', \n",
    "            17:'No entry', \n",
    "            18:'General caution', \n",
    "            19:'Dangerous curve left', \n",
    "            20:'Dangerous curve right', \n",
    "            21:'Double curve', \n",
    "            22:'Bumpy road', \n",
    "            23:'Slippery road', \n",
    "            24:'Road narrows on the right', \n",
    "            25:'Road work', \n",
    "            26:'Traffic signals', \n",
    "            27:'Pedestrians', \n",
    "            28:'Children crossing', \n",
    "            29:'Bicycles crossing', \n",
    "            30:'Beware of ice/snow',\n",
    "            31:'Wild animals crossing', \n",
    "            32:'End speed + passing limits', \n",
    "            33:'Turn right ahead', \n",
    "            34:'Turn left ahead', \n",
    "            35:'Ahead only', \n",
    "            36:'Go straight or right', \n",
    "            37:'Go straight or left', \n",
    "            38:'Keep right', \n",
    "            39:'Keep left', \n",
    "            40:'Roundabout mandatory', \n",
    "            41:'End of no passing', \n",
    "            42:'End no passing veh > 3.5 tons' }"
   ]
  },
  {
   "cell_type": "code",
   "execution_count": 22,
   "metadata": {},
   "outputs": [],
   "source": [
    "from PIL import Image\n",
    "import numpy as np\n",
    "import matplotlib.pyplot as plt\n",
    "def test_on_img(img):\n",
    "    data=[]\n",
    "    image = Image.open(img)\n",
    "    image = image.resize((30,30))\n",
    "    data.append(np.array(image))\n",
    "    X_test=np.array(data)\n",
    "    Y_pred = model.predict(X_test)\n",
    "    return image,Y_pred"
   ]
  },
  {
   "cell_type": "code",
   "execution_count": 70,
   "metadata": {},
   "outputs": [
    {
     "name": "stdout",
     "output_type": "stream",
     "text": [
      "[[4.9958560e-29 5.2774630e-13 3.4813520e-16 9.1497060e-16 4.8688116e-18\n",
      "  1.6385888e-15 1.4276108e-16 6.3664606e-15 1.7058291e-20 7.8776869e-21\n",
      "  5.8559611e-22 3.5431174e-15 1.0000000e+00 2.1706782e-15 5.8132009e-16\n",
      "  2.3438207e-10 5.5818800e-20 7.7606267e-18 1.5245791e-23 6.0171679e-30\n",
      "  7.7821436e-27 4.0609866e-27 2.8784155e-29 9.1770642e-26 3.2359095e-35\n",
      "  3.2399857e-20 1.3011360e-21 1.3803341e-32 1.8406127e-25 5.3786416e-19\n",
      "  7.6857535e-21 8.7013398e-26 1.5681287e-14 7.1239138e-26 4.1323800e-23\n",
      "  9.1237949e-19 3.9599508e-16 1.2527518e-21 8.7023138e-16 2.2647824e-29\n",
      "  8.0791815e-15 2.9628408e-20 1.6935802e-21]]\n",
      "12 Predicted traffic sign is:  Priority road\n"
     ]
    },
    {
     "data": {
      "image/png": "[encoded data removed]",
      "text/plain": [
       "<Figure size 432x288 with 1 Axes>"
      ]
     },
     "metadata": {
      "needs_background": "light"
     },
     "output_type": "display_data"
    }
   ],
   "source": [
    "plot,prediction = test_on_img(r'D:\\Traffic_Sign_Recognition\\Test\\00007.png')\n",
    "print(prediction)\n",
    "for ind, i in enumerate(prediction):\n",
    "    print(np.argmax(i), end=\" \")\n",
    "print(\"Predicted traffic sign is: \", classes[np.argmax(i)])\n",
    "plt.imshow(plot)\n",
    "plt.show()"
   ]
  },
  {
   "cell_type": "code",
   "execution_count": null,
   "metadata": {},
   "outputs": [],
   "source": []
  }
 ],
 "metadata": {
  "kernelspec": {
   "display_name": "Python 3",
   "language": "python",
   "name": "python3"
  },
  "language_info": {
   "codemirror_mode": {
    "name": "ipython",
    "version": 3
   },
   "file_extension": ".py",
   "mimetype": "text/x-python",
   "name": "python",
   "nbconvert_exporter": "python",
   "pygments_lexer": "ipython3",
   "version": "3.8.3"
  }
 },
 "nbformat": 4,
 "nbformat_minor": 4
}
